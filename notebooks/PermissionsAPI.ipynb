{
 "cells": [
  {
   "cell_type": "markdown",
   "metadata": {},
   "source": [
    "# Permissions API Demo\n",
    "\n",
    "This notebook demonstrates the Permissions API functionality including:\n",
    "- Creating permissions, groups, and users\n",
    "- Setting permissions at different levels\n",
    "- Viewing calculated permissions\n",
    "- Debugging permission resolution chains\n",
    "- Viewing audit history\n",
    "\n",
    "**Prerequisites:** Start the API with `dotnet run --project ../src/PermissionsApi`"
   ]
  },
  {
   "cell_type": "code",
   "execution_count": 3,
   "metadata": {},
   "outputs": [],
   "source": [
    "import requests\n",
    "import json\n",
    "from datetime import datetime\n",
    "\n",
    "BASE_URL = \"http://localhost:5000/api/v1\"\n",
    "\n",
    "def pretty_print(response):\n",
    "    print(f\"Status: {response.status_code}\")\n",
    "    if response.text:\n",
    "        print(json.dumps(response.json(), indent=2))\n",
    "    print()"
   ]
  },
  {
   "cell_type": "markdown",
   "metadata": {},
   "source": [
    "## 1. Create Permissions"
   ]
  },
  {
   "cell_type": "code",
   "execution_count": 4,
   "metadata": {},
   "outputs": [
    {
     "name": "stdout",
     "output_type": "stream",
     "text": [
      "Status: 201\n",
      "{\n",
      "  \"name\": \"read\",\n",
      "  \"description\": \"Read access to resources\",\n",
      "  \"isDefault\": true,\n",
      "  \"id\": \"read\"\n",
      "}\n",
      "\n",
      "Status: 201\n",
      "{\n",
      "  \"name\": \"write\",\n",
      "  \"description\": \"Write access to resources\",\n",
      "  \"isDefault\": false,\n",
      "  \"id\": \"write\"\n",
      "}\n",
      "\n",
      "Status: 201\n",
      "{\n",
      "  \"name\": \"delete\",\n",
      "  \"description\": \"Delete resources\",\n",
      "  \"isDefault\": false,\n",
      "  \"id\": \"delete\"\n",
      "}\n",
      "\n",
      "Status: 201\n",
      "{\n",
      "  \"name\": \"admin\",\n",
      "  \"description\": \"Administrative access\",\n",
      "  \"isDefault\": false,\n",
      "  \"id\": \"admin\"\n",
      "}\n",
      "\n"
     ]
    }
   ],
   "source": [
    "# Create permissions with different default settings\n",
    "permissions = [\n",
    "    {\"name\": \"read\", \"description\": \"Read access to resources\", \"isDefault\": True},\n",
    "    {\"name\": \"write\", \"description\": \"Write access to resources\", \"isDefault\": False},\n",
    "    {\"name\": \"delete\", \"description\": \"Delete resources\", \"isDefault\": False},\n",
    "    {\"name\": \"admin\", \"description\": \"Administrative access\", \"isDefault\": False}\n",
    "]\n",
    "\n",
    "for perm in permissions:\n",
    "    response = requests.post(f\"{BASE_URL}/permissions\", json=perm)\n",
    "    pretty_print(response)"
   ]
  },
  {
   "cell_type": "code",
   "execution_count": 5,
   "metadata": {
    "scrolled": true
   },
   "outputs": [
    {
     "name": "stdout",
     "output_type": "stream",
     "text": [
      "Status: 200\n",
      "[\n",
      "  {\n",
      "    \"name\": \"admin\",\n",
      "    \"description\": \"Administrative access\",\n",
      "    \"isDefault\": false,\n",
      "    \"id\": \"admin\"\n",
      "  },\n",
      "  {\n",
      "    \"name\": \"delete\",\n",
      "    \"description\": \"Delete resources\",\n",
      "    \"isDefault\": false,\n",
      "    \"id\": \"delete\"\n",
      "  },\n",
      "  {\n",
      "    \"name\": \"read\",\n",
      "    \"description\": \"Read access to resources\",\n",
      "    \"isDefault\": true,\n",
      "    \"id\": \"read\"\n",
      "  },\n",
      "  {\n",
      "    \"name\": \"write\",\n",
      "    \"description\": \"Write access to resources\",\n",
      "    \"isDefault\": false,\n",
      "    \"id\": \"write\"\n",
      "  }\n",
      "]\n",
      "\n"
     ]
    }
   ],
   "source": [
    "# List all permissions\n",
    "response = requests.get(f\"{BASE_URL}/permissions\")\n",
    "pretty_print(response)"
   ]
  },
  {
   "cell_type": "markdown",
   "metadata": {},
   "source": [
    "## 2. Create Groups"
   ]
  },
  {
   "cell_type": "code",
   "execution_count": 6,
   "metadata": {},
   "outputs": [
    {
     "name": "stdout",
     "output_type": "stream",
     "text": [
      "Status: 201\n",
      "{\n",
      "  \"name\": \"editors\"\n",
      "}\n",
      "\n",
      "Status: 201\n",
      "{\n",
      "  \"name\": \"admins\"\n",
      "}\n",
      "\n"
     ]
    }
   ],
   "source": [
    "# Create groups\n",
    "editors_response = requests.post(f\"{BASE_URL}/groups\", json={\"name\": \"editors\"})\n",
    "pretty_print(editors_response)\n",
    "\n",
    "admins_response = requests.post(f\"{BASE_URL}/groups\", json={\"name\": \"admins\"})\n",
    "pretty_print(admins_response)"
   ]
  },
  {
   "cell_type": "code",
   "execution_count": 7,
   "metadata": {},
   "outputs": [
    {
     "name": "stdout",
     "output_type": "stream",
     "text": [
      "Status: 200\n",
      "\n"
     ]
    }
   ],
   "source": [
    "# Set permissions for editors group\n",
    "response = requests.put(\n",
    "    f\"{BASE_URL}/groups/editors/permissions\",\n",
    "    json={\n",
    "        \"allow\": [\"write\"],\n",
    "        \"deny\": [\"delete\"],\n",
    "        \"principal\": \"admin@example.com\",\n",
    "        \"reason\": \"Standard editor permissions\"\n",
    "    }\n",
    ")\n",
    "pretty_print(response)"
   ]
  },
  {
   "cell_type": "code",
   "execution_count": 8,
   "metadata": {},
   "outputs": [
    {
     "name": "stdout",
     "output_type": "stream",
     "text": [
      "Status: 200\n",
      "\n"
     ]
    }
   ],
   "source": [
    "# Set permissions for admins group\n",
    "response = requests.put(\n",
    "    f\"{BASE_URL}/groups/admins/permissions\",\n",
    "    json={\n",
    "        \"allow\": [\"write\", \"delete\", \"admin\"],\n",
    "        \"principal\": \"admin@example.com\",\n",
    "        \"reason\": \"Full admin access\"\n",
    "    }\n",
    ")\n",
    "pretty_print(response)"
   ]
  },
  {
   "cell_type": "markdown",
   "metadata": {},
   "source": [
    "## 3. Create Users"
   ]
  },
  {
   "cell_type": "code",
   "execution_count": 9,
   "metadata": {},
   "outputs": [
    {
     "name": "stdout",
     "output_type": "stream",
     "text": [
      "Status: 201\n",
      "\n"
     ]
    }
   ],
   "source": [
    "# Create user in editors group\n",
    "response = requests.post(\n",
    "    f\"{BASE_URL}/users\",\n",
    "    json={\n",
    "        \"email\": \"alice@example.com\",\n",
    "        \"groups\": [\"editors\"]\n",
    "    }\n",
    ")\n",
    "pretty_print(response)"
   ]
  },
  {
   "cell_type": "code",
   "execution_count": 10,
   "metadata": {},
   "outputs": [
    {
     "name": "stdout",
     "output_type": "stream",
     "text": [
      "Status: 201\n",
      "\n"
     ]
    }
   ],
   "source": [
    "# Create user in admins group\n",
    "response = requests.post(\n",
    "    f\"{BASE_URL}/users\",\n",
    "    json={\n",
    "        \"email\": \"bob@example.com\",\n",
    "        \"groups\": [\"admins\"]\n",
    "    }\n",
    ")\n",
    "pretty_print(response)"
   ]
  },
  {
   "cell_type": "markdown",
   "metadata": {},
   "source": [
    "## 4. View Calculated Permissions"
   ]
  },
  {
   "cell_type": "code",
   "execution_count": 11,
   "metadata": {},
   "outputs": [
    {
     "name": "stdout",
     "output_type": "stream",
     "text": [
      "Status: 200\n",
      "{\n",
      "  \"email\": \"alice@example.com\",\n",
      "  \"allow\": [\n",
      "    \"read\",\n",
      "    \"write\"\n",
      "  ],\n",
      "  \"deny\": [\n",
      "    \"admin\",\n",
      "    \"delete\"\n",
      "  ]\n",
      "}\n",
      "\n"
     ]
    }
   ],
   "source": [
    "# Alice's permissions (editor)\n",
    "response = requests.get(f\"{BASE_URL}/users/alice@example.com/permissions\")\n",
    "pretty_print(response)"
   ]
  },
  {
   "cell_type": "code",
   "execution_count": 12,
   "metadata": {},
   "outputs": [
    {
     "name": "stdout",
     "output_type": "stream",
     "text": [
      "Status: 200\n",
      "{\n",
      "  \"email\": \"bob@example.com\",\n",
      "  \"allow\": [\n",
      "    \"admin\",\n",
      "    \"delete\",\n",
      "    \"read\",\n",
      "    \"write\"\n",
      "  ],\n",
      "  \"deny\": []\n",
      "}\n",
      "\n"
     ]
    }
   ],
   "source": [
    "# Bob's permissions (admin)\n",
    "response = requests.get(f\"{BASE_URL}/users/bob@example.com/permissions\")\n",
    "pretty_print(response)"
   ]
  },
  {
   "cell_type": "markdown",
   "metadata": {},
   "source": [
    "## 5. User-Level Permission Override"
   ]
  },
  {
   "cell_type": "code",
   "execution_count": 13,
   "metadata": {},
   "outputs": [
    {
     "name": "stdout",
     "output_type": "stream",
     "text": [
      "Status: 200\n",
      "\n"
     ]
    }
   ],
   "source": [
    "# Give Alice delete permission (override group DENY)\n",
    "response = requests.put(\n",
    "    f\"{BASE_URL}/users/alice@example.com/permissions/delete\",\n",
    "    json={\n",
    "        \"access\": \"ALLOW\",\n",
    "        \"principal\": \"admin@example.com\",\n",
    "        \"reason\": \"Special exception for Alice\"\n",
    "    }\n",
    ")\n",
    "pretty_print(response)"
   ]
  },
  {
   "cell_type": "code",
   "execution_count": 14,
   "metadata": {},
   "outputs": [
    {
     "name": "stdout",
     "output_type": "stream",
     "text": [
      "Status: 200\n",
      "{\n",
      "  \"email\": \"alice@example.com\",\n",
      "  \"allow\": [\n",
      "    \"delete\",\n",
      "    \"read\",\n",
      "    \"write\"\n",
      "  ],\n",
      "  \"deny\": [\n",
      "    \"admin\"\n",
      "  ]\n",
      "}\n",
      "\n"
     ]
    }
   ],
   "source": [
    "# Check Alice's permissions again\n",
    "response = requests.get(f\"{BASE_URL}/users/alice@example.com/permissions\")\n",
    "pretty_print(response)"
   ]
  },
  {
   "cell_type": "markdown",
   "metadata": {},
   "source": [
    "## 6. Debug Permission Resolution"
   ]
  },
  {
   "cell_type": "code",
   "execution_count": 17,
   "metadata": {},
   "outputs": [
    {
     "name": "stdout",
     "output_type": "stream",
     "text": [
      "Status: 404\n",
      "\n"
     ]
    }
   ],
   "source": [
    "# Debug Alice's permission resolution chain\n",
    "response = requests.get(f\"{BASE_URL}/user/alice@example.com/debug\")\n",
    "pretty_print(response)"
   ]
  },
  {
   "cell_type": "markdown",
   "metadata": {},
   "source": [
    "## 7. Audit History"
   ]
  },
  {
   "cell_type": "code",
   "execution_count": 16,
   "metadata": {},
   "outputs": [
    {
     "name": "stdout",
     "output_type": "stream",
     "text": [
      "Status: 500\n",
      "\n"
     ]
    }
   ],
   "source": [
    "# View global history\n",
    "response = requests.get(f\"{BASE_URL}/history?skip=0&count=10\")\n",
    "pretty_print(response)"
   ]
  },
  {
   "cell_type": "code",
   "execution_count": 22,
   "metadata": {},
   "outputs": [
    {
     "name": "stdout",
     "output_type": "stream",
     "text": [
      "Status: 200\n",
      "[\n",
      "  {\n",
      "    \"timestampUtc\": \"2025-10-25T00:52:40.581199\",\n",
      "    \"changeType\": \"CREATE\",\n",
      "    \"entityType\": \"User\",\n",
      "    \"entityId\": \"alice@example.com\",\n",
      "    \"entityAfterChange\": {\n",
      "      \"$type\": \"user\",\n",
      "      \"email\": \"alice@example.com\",\n",
      "      \"groups\": [\n",
      "        \"11b115e5-906c-435d-ad4b-5cee751dd0a5\"\n",
      "      ],\n",
      "      \"permissions\": {\n",
      "        \"delete\": \"ALLOW\"\n",
      "      },\n",
      "      \"id\": \"alice@example.com\"\n",
      "    },\n",
      "    \"principal\": null,\n",
      "    \"reason\": null,\n",
      "    \"id\": \"35d36c93-0970-4bba-867a-bd6e1dcd3465\"\n",
      "  }\n",
      "]\n",
      "\n"
     ]
    }
   ],
   "source": [
    "# View Alice's history\n",
    "response = requests.get(f\"{BASE_URL}/users/alice@example.com/history\")\n",
    "pretty_print(response)"
   ]
  },
  {
   "cell_type": "code",
   "execution_count": 23,
   "metadata": {},
   "outputs": [
    {
     "name": "stdout",
     "output_type": "stream",
     "text": [
      "Status: 200\n",
      "[\n",
      "  {\n",
      "    \"timestampUtc\": \"2025-10-25T00:52:38.848813\",\n",
      "    \"changeType\": \"UPDATE\",\n",
      "    \"entityType\": \"Group\",\n",
      "    \"entityId\": \"11b115e5-906c-435d-ad4b-5cee751dd0a5\",\n",
      "    \"entityAfterChange\": {\n",
      "      \"$type\": \"group\",\n",
      "      \"id\": \"11b115e5-906c-435d-ad4b-5cee751dd0a5\",\n",
      "      \"name\": \"editors\",\n",
      "      \"permissions\": {\n",
      "        \"write\": \"ALLOW\",\n",
      "        \"delete\": \"DENY\"\n",
      "      }\n",
      "    },\n",
      "    \"principal\": \"admin@example.com\",\n",
      "    \"reason\": \"Standard editor permissions\",\n",
      "    \"id\": \"27bb079b-88f1-4d35-aa7c-1c0b1be2761e\"\n",
      "  },\n",
      "  {\n",
      "    \"timestampUtc\": \"2025-10-25T00:52:38.02306\",\n",
      "    \"changeType\": \"CREATE\",\n",
      "    \"entityType\": \"Group\",\n",
      "    \"entityId\": \"11b115e5-906c-435d-ad4b-5cee751dd0a5\",\n",
      "    \"entityAfterChange\": {\n",
      "      \"$type\": \"group\",\n",
      "      \"id\": \"11b115e5-906c-435d-ad4b-5cee751dd0a5\",\n",
      "      \"name\": \"editors\",\n",
      "      \"permissions\": {}\n",
      "    },\n",
      "    \"principal\": null,\n",
      "    \"reason\": null,\n",
      "    \"id\": \"2d46341b-4441-4cc9-b771-f3441564c29b\"\n",
      "  }\n",
      "]\n",
      "\n"
     ]
    }
   ],
   "source": [
    "# View editors group history\n",
    "response = requests.get(f\"{BASE_URL}/groups/editors/history\")\n",
    "pretty_print(response)"
   ]
  },
  {
   "cell_type": "markdown",
   "metadata": {},
   "source": [
    "## 8. Batch Operations"
   ]
  },
  {
   "cell_type": "code",
   "execution_count": 24,
   "metadata": {},
   "outputs": [
    {
     "name": "stdout",
     "output_type": "stream",
     "text": [
      "Status: 201\n",
      "\n"
     ]
    }
   ],
   "source": [
    "# Create user with multiple groups\n",
    "response = requests.post(\n",
    "    f\"{BASE_URL}/users\",\n",
    "    json={\n",
    "        \"email\": \"charlie@example.com\",\n",
    "        \"groups\": [\"editors\", \"admins\"]\n",
    "    }\n",
    ")\n",
    "pretty_print(response)"
   ]
  },
  {
   "cell_type": "code",
   "execution_count": 25,
   "metadata": {},
   "outputs": [
    {
     "name": "stdout",
     "output_type": "stream",
     "text": [
      "Status: 200\n",
      "\n"
     ]
    }
   ],
   "source": [
    "# Set multiple user permissions at once\n",
    "response = requests.put(\n",
    "    f\"{BASE_URL}/users/charlie@example.com/permissions\",\n",
    "    json={\n",
    "        \"allow\": [\"admin\"],\n",
    "        \"deny\": [\"delete\"],\n",
    "        \"principal\": \"admin@example.com\",\n",
    "        \"reason\": \"Custom permission set for Charlie\"\n",
    "    }\n",
    ")\n",
    "pretty_print(response)"
   ]
  },
  {
   "cell_type": "code",
   "execution_count": 26,
   "metadata": {},
   "outputs": [
    {
     "name": "stdout",
     "output_type": "stream",
     "text": [
      "Status: 200\n",
      "{\n",
      "  \"email\": \"charlie@example.com\",\n",
      "  \"allow\": [\n",
      "    \"admin\",\n",
      "    \"read\",\n",
      "    \"write\"\n",
      "  ],\n",
      "  \"deny\": [\n",
      "    \"delete\"\n",
      "  ]\n",
      "}\n",
      "\n"
     ]
    }
   ],
   "source": [
    "# Check Charlie's final permissions (groups are processed alphabetically)\n",
    "response = requests.get(f\"{BASE_URL}/users/charlie@example.com/permissions\")\n",
    "pretty_print(response)"
   ]
  },
  {
   "cell_type": "code",
   "execution_count": 27,
   "metadata": {},
   "outputs": [
    {
     "name": "stdout",
     "output_type": "stream",
     "text": [
      "Status: 200\n",
      "{\n",
      "  \"email\": \"charlie@example.com\",\n",
      "  \"permissions\": [\n",
      "    {\n",
      "      \"permission\": \"admin\",\n",
      "      \"finalResult\": \"ALLOW\",\n",
      "      \"chain\": [\n",
      "        {\n",
      "          \"level\": \"Default\",\n",
      "          \"source\": \"system\",\n",
      "          \"action\": \"NONE\"\n",
      "        },\n",
      "        {\n",
      "          \"level\": \"Group\",\n",
      "          \"source\": \"admins\",\n",
      "          \"action\": \"ALLOW\"\n",
      "        },\n",
      "        {\n",
      "          \"level\": \"User\",\n",
      "          \"source\": \"charlie@example.com\",\n",
      "          \"action\": \"ALLOW\"\n",
      "        }\n",
      "      ]\n",
      "    },\n",
      "    {\n",
      "      \"permission\": \"delete\",\n",
      "      \"finalResult\": \"DENY\",\n",
      "      \"chain\": [\n",
      "        {\n",
      "          \"level\": \"Default\",\n",
      "          \"source\": \"system\",\n",
      "          \"action\": \"NONE\"\n",
      "        },\n",
      "        {\n",
      "          \"level\": \"Group\",\n",
      "          \"source\": \"admins\",\n",
      "          \"action\": \"ALLOW\"\n",
      "        },\n",
      "        {\n",
      "          \"level\": \"Group\",\n",
      "          \"source\": \"editors\",\n",
      "          \"action\": \"DENY\"\n",
      "        },\n",
      "        {\n",
      "          \"level\": \"User\",\n",
      "          \"source\": \"charlie@example.com\",\n",
      "          \"action\": \"DENY\"\n",
      "        }\n",
      "      ]\n",
      "    },\n",
      "    {\n",
      "      \"permission\": \"read\",\n",
      "      \"finalResult\": \"ALLOW\",\n",
      "      \"chain\": [\n",
      "        {\n",
      "          \"level\": \"Default\",\n",
      "          \"source\": \"system\",\n",
      "          \"action\": \"ALLOW\"\n",
      "        }\n",
      "      ]\n",
      "    },\n",
      "    {\n",
      "      \"permission\": \"write\",\n",
      "      \"finalResult\": \"ALLOW\",\n",
      "      \"chain\": [\n",
      "        {\n",
      "          \"level\": \"Default\",\n",
      "          \"source\": \"system\",\n",
      "          \"action\": \"NONE\"\n",
      "        },\n",
      "        {\n",
      "          \"level\": \"Group\",\n",
      "          \"source\": \"admins\",\n",
      "          \"action\": \"ALLOW\"\n",
      "        },\n",
      "        {\n",
      "          \"level\": \"Group\",\n",
      "          \"source\": \"editors\",\n",
      "          \"action\": \"ALLOW\"\n",
      "        }\n",
      "      ]\n",
      "    }\n",
      "  ]\n",
      "}\n",
      "\n"
     ]
    }
   ],
   "source": [
    "# Debug Charlie's resolution to see group ordering\n",
    "response = requests.get(f\"{BASE_URL}/user/charlie@example.com/debug\")\n",
    "pretty_print(response)"
   ]
  },
  {
   "cell_type": "markdown",
   "metadata": {},
   "source": [
    "## 9. Toggle Default Permission"
   ]
  },
  {
   "cell_type": "code",
   "execution_count": 28,
   "metadata": {},
   "outputs": [
    {
     "name": "stdout",
     "output_type": "stream",
     "text": [
      "Status: 400\n",
      "{\n",
      "  \"type\": \"https://tools.ietf.org/html/rfc9110#section-15.5.1\",\n",
      "  \"title\": \"One or more validation errors occurred.\",\n",
      "  \"status\": 400,\n",
      "  \"errors\": {\n",
      "    \"$\": [\n",
      "      \"The JSON value could not be converted to System.Boolean. Path: $ | LineNumber: 0 | BytePositionInLine: 1.\"\n",
      "    ]\n",
      "  },\n",
      "  \"traceId\": \"00-5d34064d719b43fb620b7d4ff87e55ae-7786a3a56f845f93-00\"\n",
      "}\n",
      "\n"
     ]
    }
   ],
   "source": [
    "# Toggle read permission default status\n",
    "response = requests.put(\n",
    "    f\"{BASE_URL}/permissions/read/default\",\n",
    "    json={\n",
    "        \"principal\": \"admin@example.com\",\n",
    "        \"reason\": \"Testing default toggle\"\n",
    "    }\n",
    ")\n",
    "pretty_print(response)"
   ]
  },
  {
   "cell_type": "code",
   "execution_count": 29,
   "metadata": {},
   "outputs": [
    {
     "name": "stdout",
     "output_type": "stream",
     "text": [
      "Status: 201\n",
      "\n",
      "Status: 200\n",
      "{\n",
      "  \"email\": \"dave@example.com\",\n",
      "  \"allow\": [\n",
      "    \"read\"\n",
      "  ],\n",
      "  \"deny\": []\n",
      "}\n",
      "\n"
     ]
    }
   ],
   "source": [
    "# Create a new user with no groups to see default permissions\n",
    "response = requests.post(\n",
    "    f\"{BASE_URL}/users\",\n",
    "    json={\"email\": \"dave@example.com\", \"groups\": []}\n",
    ")\n",
    "pretty_print(response)\n",
    "\n",
    "response = requests.get(f\"{BASE_URL}/users/dave@example.com/permissions\")\n",
    "pretty_print(response)"
   ]
  },
  {
   "cell_type": "markdown",
   "metadata": {},
   "source": [
    "## 10. Cleanup (Optional)"
   ]
  },
  {
   "cell_type": "code",
   "execution_count": 30,
   "metadata": {},
   "outputs": [
    {
     "name": "stdout",
     "output_type": "stream",
     "text": [
      "Delete alice@example.com: 204\n",
      "Delete bob@example.com: 204\n",
      "Delete charlie@example.com: 204\n",
      "Delete dave@example.com: 204\n",
      "Delete group 11b115e5-906c-435d-ad4b-5cee751dd0a5: 204\n",
      "Delete group 612d3d1b-8ad0-4b39-bad3-0bdfaddc6bb2: 204\n",
      "Delete permission read: 204\n",
      "Delete permission write: 204\n",
      "Delete permission delete: 204\n",
      "Delete permission admin: 204\n"
     ]
    }
   ],
   "source": [
    "# Delete users\n",
    "for email in [\"alice@example.com\", \"bob@example.com\", \"charlie@example.com\", \"dave@example.com\"]:\n",
    "    response = requests.delete(f\"{BASE_URL}/users/{email}\")\n",
    "    print(f\"Delete {email}: {response.status_code}\")\n",
    "\n",
    "# Delete groups\n",
    "for group_name in ['editors', 'admins']:\n",
    "    response = requests.delete(f\"{BASE_URL}/groups/{group_name}\")\n",
    "    print(f\"Delete group {group_name}: {response.status_code}\")\n",
    "\n",
    "# Delete permissions\n",
    "for perm in [\"read\", \"write\", \"delete\", \"admin\"]:\n",
    "    response = requests.delete(f\"{BASE_URL}/permissions/{perm}\")\n",
    "    print(f\"Delete permission {perm}: {response.status_code}\")"
   ]
  },
  {
   "cell_type": "code",
   "execution_count": null,
   "metadata": {},
   "outputs": [],
   "source": []
  },
  {
   "cell_type": "code",
   "execution_count": null,
   "metadata": {},
   "outputs": [],
   "source": []
  }
 ],
 "metadata": {
  "kernelspec": {
   "display_name": "Python 3 (ipykernel)",
   "language": "python",
   "name": "python3"
  },
  "language_info": {
   "codemirror_mode": {
    "name": "ipython",
    "version": 3
   },
   "file_extension": ".py",
   "mimetype": "text/x-python",
   "name": "python",
   "nbconvert_exporter": "python",
   "pygments_lexer": "ipython3",
   "version": "3.13.7"
  }
 },
 "nbformat": 4,
 "nbformat_minor": 4
}
